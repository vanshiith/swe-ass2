{
  "nbformat": 4,
  "nbformat_minor": 0,
  "metadata": {
    "colab": {
      "provenance": []
    },
    "kernelspec": {
      "name": "python3",
      "display_name": "Python 3"
    },
    "language_info": {
      "name": "python"
    }
  },
  "cells": [
    {
      "cell_type": "code",
      "execution_count": 1,
      "metadata": {
        "id": "mo1GGND6gJpk"
      },
      "outputs": [],
      "source": [
        "import torch\n",
        "import torch.nn as nn\n",
        "import torch.optim as optim\n",
        "from sklearn.datasets import fetch_california_housing\n",
        "from sklearn.model_selection import train_test_split\n",
        "from sklearn.preprocessing import StandardScaler\n",
        "from sklearn.metrics import mean_squared_error\n",
        "import matplotlib.pyplot as plt\n",
        "import numpy as np"
      ]
    },
    {
      "cell_type": "code",
      "source": [
        "def load_housing_data():\n",
        "    housing = fetch_california_housing()\n",
        "    data = housing.data\n",
        "    target = housing.target\n",
        "\n",
        "    X_train, X_test, y_train, y_test = train_test_split(data, target, test_size=0.2, random_state=42)\n",
        "\n",
        "    scaler = StandardScaler()\n",
        "    X_train = scaler.fit_transform(X_train)\n",
        "    X_test = scaler.transform(X_test)\n",
        "\n",
        "    return X_train, X_test, y_train, y_test"
      ],
      "metadata": {
        "id": "Mw0KZZIrgVZQ"
      },
      "execution_count": 2,
      "outputs": []
    },
    {
      "cell_type": "code",
      "source": [
        "class MLP(nn.Module):\n",
        "    def __init__(self, input_size, hidden_size):\n",
        "        super(MLP, self).__init__()\n",
        "        self.fc1 = nn.Linear(input_size, hidden_size)\n",
        "        self.relu = nn.ReLU()\n",
        "        self.fc2 = nn.Linear(hidden_size, 1)\n",
        "\n",
        "    def forward(self, x):\n",
        "        x = x.view(x.size(0), -1)\n",
        "        out = self.fc1(x)\n",
        "        out = self.relu(out)\n",
        "        out = self.fc2(out)\n",
        "        return out"
      ],
      "metadata": {
        "id": "L--SjjNAgY0G"
      },
      "execution_count": 3,
      "outputs": []
    },
    {
      "cell_type": "code",
      "source": [
        "def train_regressor(model, X_train, y_train, criterion, optimizer, num_epochs=10):\n",
        "    loss_values = []\n",
        "\n",
        "    for epoch in range(num_epochs):\n",
        "        model.train()\n",
        "\n",
        "        inputs = torch.tensor(X_train, dtype=torch.float32)\n",
        "        targets = torch.tensor(y_train, dtype=torch.float32).view(-1, 1)\n",
        "\n",
        "        outputs = model(inputs)\n",
        "        loss = criterion(outputs, targets)\n",
        "\n",
        "        optimizer.zero_grad()\n",
        "        loss.backward()\n",
        "        optimizer.step()\n",
        "\n",
        "        loss_values.append(loss.item())\n",
        "        print(f\"Epoch [{epoch+1}/{num_epochs}], Loss: {loss.item():.4f}\")\n",
        "\n",
        "    plt.plot(range(1, num_epochs + 1), loss_values, label='Training Loss')\n",
        "    plt.xlabel('Epochs')\n",
        "    plt.ylabel('Loss (MSE)')\n",
        "    plt.title('Loss Function Over Epochs')\n",
        "    plt.legend()\n",
        "    plt.show()"
      ],
      "metadata": {
        "id": "QXcoRFRTgd-G"
      },
      "execution_count": 4,
      "outputs": []
    },
    {
      "cell_type": "code",
      "source": [
        "def test_regressor(model, X_test, y_test):\n",
        "    model.eval()\n",
        "\n",
        "    inputs = torch.tensor(X_test, dtype=torch.float32)\n",
        "\n",
        "    predictions = model(inputs).detach().numpy().flatten()\n",
        "    mse = mean_squared_error(y_test, predictions)\n",
        "    print(f\"Mean Squared Error on Test Data: {mse:.4f}\")\n"
      ],
      "metadata": {
        "id": "e76JFKlDgiIV"
      },
      "execution_count": 5,
      "outputs": []
    },
    {
      "cell_type": "code",
      "source": [
        "if __name__ == '__main__':\n",
        "    X_train, X_test, y_train, y_test = load_housing_data()\n",
        "\n",
        "    input_size = X_train.shape[1]\n",
        "    hidden_size = 64\n",
        "    learning_rate = 0.001\n",
        "\n",
        "    model = MLP(input_size, hidden_size)\n",
        "    criterion = nn.MSELoss()\n",
        "    optimizer = optim.Adam(model.parameters(), lr=learning_rate)\n",
        "\n",
        "    train_regressor(model, X_train, y_train, criterion, optimizer, num_epochs=100)\n",
        "\n",
        "    test_regressor(model, X_test, y_test)"
      ],
      "metadata": {
        "colab": {
          "base_uri": "https://localhost:8080/",
          "height": 1000
        },
        "id": "-Nrua0sggpZf",
        "outputId": "68a99fd2-ffb0-4912-b9a1-b66414d578f6"
      },
      "execution_count": 8,
      "outputs": [
        {
          "output_type": "stream",
          "name": "stdout",
          "text": [
            "Epoch [1/80], Loss: 5.2600\n",
            "Epoch [2/80], Loss: 5.1806\n",
            "Epoch [3/80], Loss: 5.1022\n",
            "Epoch [4/80], Loss: 5.0248\n",
            "Epoch [5/80], Loss: 4.9485\n",
            "Epoch [6/80], Loss: 4.8732\n",
            "Epoch [7/80], Loss: 4.7990\n",
            "Epoch [8/80], Loss: 4.7258\n",
            "Epoch [9/80], Loss: 4.6536\n",
            "Epoch [10/80], Loss: 4.5825\n",
            "Epoch [11/80], Loss: 4.5124\n",
            "Epoch [12/80], Loss: 4.4433\n",
            "Epoch [13/80], Loss: 4.3752\n",
            "Epoch [14/80], Loss: 4.3081\n",
            "Epoch [15/80], Loss: 4.2421\n",
            "Epoch [16/80], Loss: 4.1770\n",
            "Epoch [17/80], Loss: 4.1129\n",
            "Epoch [18/80], Loss: 4.0498\n",
            "Epoch [19/80], Loss: 3.9876\n",
            "Epoch [20/80], Loss: 3.9264\n",
            "Epoch [21/80], Loss: 3.8661\n",
            "Epoch [22/80], Loss: 3.8068\n",
            "Epoch [23/80], Loss: 3.7483\n",
            "Epoch [24/80], Loss: 3.6908\n",
            "Epoch [25/80], Loss: 3.6341\n",
            "Epoch [26/80], Loss: 3.5783\n",
            "Epoch [27/80], Loss: 3.5234\n",
            "Epoch [28/80], Loss: 3.4693\n",
            "Epoch [29/80], Loss: 3.4161\n",
            "Epoch [30/80], Loss: 3.3636\n",
            "Epoch [31/80], Loss: 3.3120\n",
            "Epoch [32/80], Loss: 3.2611\n",
            "Epoch [33/80], Loss: 3.2111\n",
            "Epoch [34/80], Loss: 3.1617\n",
            "Epoch [35/80], Loss: 3.1132\n",
            "Epoch [36/80], Loss: 3.0653\n",
            "Epoch [37/80], Loss: 3.0182\n",
            "Epoch [38/80], Loss: 2.9718\n",
            "Epoch [39/80], Loss: 2.9261\n",
            "Epoch [40/80], Loss: 2.8811\n",
            "Epoch [41/80], Loss: 2.8368\n",
            "Epoch [42/80], Loss: 2.7931\n",
            "Epoch [43/80], Loss: 2.7501\n",
            "Epoch [44/80], Loss: 2.7077\n",
            "Epoch [45/80], Loss: 2.6660\n",
            "Epoch [46/80], Loss: 2.6249\n",
            "Epoch [47/80], Loss: 2.5844\n",
            "Epoch [48/80], Loss: 2.5445\n",
            "Epoch [49/80], Loss: 2.5052\n",
            "Epoch [50/80], Loss: 2.4665\n",
            "Epoch [51/80], Loss: 2.4283\n",
            "Epoch [52/80], Loss: 2.3908\n",
            "Epoch [53/80], Loss: 2.3537\n",
            "Epoch [54/80], Loss: 2.3173\n",
            "Epoch [55/80], Loss: 2.2813\n",
            "Epoch [56/80], Loss: 2.2459\n",
            "Epoch [57/80], Loss: 2.2111\n",
            "Epoch [58/80], Loss: 2.1767\n",
            "Epoch [59/80], Loss: 2.1429\n",
            "Epoch [60/80], Loss: 2.1097\n",
            "Epoch [61/80], Loss: 2.0769\n",
            "Epoch [62/80], Loss: 2.0446\n",
            "Epoch [63/80], Loss: 2.0128\n",
            "Epoch [64/80], Loss: 1.9816\n",
            "Epoch [65/80], Loss: 1.9508\n",
            "Epoch [66/80], Loss: 1.9205\n",
            "Epoch [67/80], Loss: 1.8907\n",
            "Epoch [68/80], Loss: 1.8613\n",
            "Epoch [69/80], Loss: 1.8325\n",
            "Epoch [70/80], Loss: 1.8041\n",
            "Epoch [71/80], Loss: 1.7762\n",
            "Epoch [72/80], Loss: 1.7488\n",
            "Epoch [73/80], Loss: 1.7218\n",
            "Epoch [74/80], Loss: 1.6953\n",
            "Epoch [75/80], Loss: 1.6693\n",
            "Epoch [76/80], Loss: 1.6437\n",
            "Epoch [77/80], Loss: 1.6186\n",
            "Epoch [78/80], Loss: 1.5939\n",
            "Epoch [79/80], Loss: 1.5697\n",
            "Epoch [80/80], Loss: 1.5460\n"
          ]
        },
        {
          "output_type": "display_data",
          "data": {
            "text/plain": [
              "<Figure size 640x480 with 1 Axes>"
            ],
            "image/png": "[encoded data removed]"
          },
          "metadata": {}
        },
        {
          "output_type": "stream",
          "name": "stdout",
          "text": [
            "Mean Squared Error on Test Data: 1.4805\n"
          ]
        }
      ]
    }
  ]
}